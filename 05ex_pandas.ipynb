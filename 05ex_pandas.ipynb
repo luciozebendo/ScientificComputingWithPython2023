{
 "cells": [
  {
   "cell_type": "markdown",
   "metadata": {},
   "source": [
    "1\\. **Pandas DataFrame**\n",
    "\n",
    "This exercise consists in analyzing a dataset containg timing information from a series of Time-to-Digital-Converters (TDC) implemented in a pair of FPGAs. Each measurement (i.e. each row of the input file) consists of a flag that specifies the type of message ('HEAD', which in this case is always 1), two addresses of the TDC providing the signal ('FPGA' and 'TDC_CHANNEL'), and the timing information ('ORBIT_CNT', 'BX_COUNTER', and 'TDC_MEAS'). Each TDC count corresponds to 25/30 ns, whereas a unit of BX_COUNTER corresponds to 25 ns, and the ORBIT_CNT is increased every `x` BX_COUNTER. This allows to store the time in a similar way to hours, minutes and seconds."
   ]
  },
  {
   "cell_type": "code",
   "execution_count": 15,
   "metadata": {},
   "outputs": [],
   "source": [
    "# If haven't downloaded it yet, please get the data file with wget\n",
    "#!wget https://www.dropbox.com/s/xvjzaxzz3ysphme/data_000637.txt -P ./data/"
   ]
  },
  {
   "cell_type": "markdown",
   "metadata": {},
   "source": [
    "1\\. Create a Pandas DataFrame reading N rows of the `data/data_000637.txt` dataset. Choose N to be smaller than or equal to the maximum number of rows and larger that 10k (check the documentation)."
   ]
  },
  {
   "cell_type": "code",
   "execution_count": 16,
   "metadata": {},
   "outputs": [
    {
     "name": "stdout",
     "output_type": "stream",
     "text": [
      "  HEAD FPGA TDC_CHANNEL   ORBIT_CNT BX_COUNTER TDC_MEAS\n",
      "0    1    0         123  3869200167       2374       26\n",
      "1    1    0         124  3869200167       2374       27\n",
      "2    1    0          63  3869200167       2553       28\n",
      "3    1    0          64  3869200167       2558       19\n",
      "4    1    0          64  3869200167       2760       25\n"
     ]
    }
   ],
   "source": [
    "import pandas as pd\n",
    "import numpy as np\n",
    "import matplotlib.pyplot as plt\n",
    "\n",
    "file_path = 'data/data_000637.txt'\n",
    "column_names = ['HEAD', 'FPGA', 'TDC_CHANNEL', 'ORBIT_CNT', 'BX_COUNTER', 'TDC_MEAS']\n",
    "N = 15000\n",
    "data = pd.read_csv(file_path, delimiter=',', names=column_names, nrows=N)\n",
    "data = data.iloc[1:]\n",
    "data.reset_index(drop=True, inplace=True)\n",
    "\n",
    "print(data.head())\n",
    "columns_to_convert = ['ORBIT_CNT', 'BX_COUNTER', 'TDC_MEAS']\n",
    "data[columns_to_convert] = data[columns_to_convert].apply(pd.to_numeric)"
   ]
  },
  {
   "cell_type": "markdown",
   "metadata": {},
   "source": [
    "2\\. Estimate the number of BX in a ORBIT (the value `x`).\n",
    "\n",
    "*Hint*: check when the BX counter reaches the maximum value before being reset to 0."
   ]
  },
  {
   "cell_type": "code",
   "execution_count": 17,
   "metadata": {},
   "outputs": [
    {
     "name": "stdout",
     "output_type": "stream",
     "text": [
      "The maximum value of BX_COUNTER before reset is: 3563\n"
     ]
    }
   ],
   "source": [
    "max_bx_counter = data['BX_COUNTER'].max()\n",
    "\n",
    "print(f\"The maximum value of BX_COUNTER before reset is: {max_bx_counter}\")"
   ]
  },
  {
   "cell_type": "markdown",
   "metadata": {},
   "source": [
    "3\\. Create a new column with the absolute time in ns (as a combination of the other three columns with timing information) since the beginning of the data acquisition, and convert the new column to a Time Series.\n",
    "\n",
    "*Hint:* introduce an offset to the absolute time such that the start of the data acquisition (i.e. the first entry) is zero."
   ]
  },
  {
   "cell_type": "code",
   "execution_count": 18,
   "metadata": {},
   "outputs": [
    {
     "name": "stdout",
     "output_type": "stream",
     "text": [
      "  HEAD FPGA TDC_CHANNEL   ORBIT_CNT  BX_COUNTER  TDC_MEAS  Absolute_Time\n",
      "0    1    0         123  3869200167        2374        26   2.296370e+14\n",
      "1    1    0         124  3869200167        2374        27   2.296370e+14\n",
      "2    1    0          63  3869200167        2553        28   2.469517e+14\n",
      "3    1    0          64  3869200167        2558        19   2.474354e+14\n",
      "4    1    0          64  3869200167        2760        25   2.669748e+14\n"
     ]
    }
   ],
   "source": [
    "condition = data['BX_COUNTER'] != 0\n",
    "data['Absolute_Time'] = np.where(condition,\n",
    "                                 data['ORBIT_CNT'] * data['BX_COUNTER'] * 25 + data['TDC_MEAS'] * (30 / 25),\n",
    "                                 data['ORBIT_CNT'] + data['TDC_MEAS'] * (30 / 25))\n",
    "\n",
    "start_time = data['Absolute_Time'].min()\n",
    "\n",
    "print(data.head())"
   ]
  },
  {
   "cell_type": "markdown",
   "metadata": {},
   "source": [
    "4\\. Find out the duration of the data taking in hours, minutes and seconds, by using the features of the Time Series. Perform this check reading the whole dataset."
   ]
  },
  {
   "cell_type": "code",
   "execution_count": 19,
   "metadata": {},
   "outputs": [
    {
     "name": "stdout",
     "output_type": "stream",
     "text": [
      "Duration of data taking: 95 hours, 44 minutes, 5.15 seconds\n"
     ]
    }
   ],
   "source": [
    "max_time = data['Absolute_Time'].max()\n",
    "min_time = data['Absolute_Time'].min()\n",
    "\n",
    "duration_ns = max_time - min_time\n",
    "\n",
    "duration_seconds = duration_ns / 1e9 \n",
    "hours = duration_seconds // 3600\n",
    "minutes = (duration_seconds % 3600) // 60\n",
    "seconds = duration_seconds % 60\n",
    "\n",
    "print(f\"Duration of data taking: {int(hours)} hours, {int(minutes)} minutes, {seconds:.2f} seconds\")"
   ]
  },
  {
   "cell_type": "markdown",
   "metadata": {},
   "source": [
    "5\\. Use the `.groupby()` method to find out the noisy channels, i.e. the TDC channels with most counts (print to screen the top 3 and the corresponding counts)"
   ]
  },
  {
   "cell_type": "code",
   "execution_count": 20,
   "metadata": {},
   "outputs": [
    {
     "name": "stdout",
     "output_type": "stream",
     "text": [
      "Top 3 Noisy Channels:\n",
      "Channel 139 : Count 1267\n",
      "Channel 64 : Count 752\n",
      "Channel 63 : Count 749\n"
     ]
    }
   ],
   "source": [
    "top_channels = data['TDC_CHANNEL'].value_counts().sort_values(ascending=False)\n",
    "\n",
    "print(\"Top 3 Noisy Channels:\")\n",
    "for channel, count in top_channels.head(3).items():\n",
    "    print(\"Channel\", channel, \": Count\", count)"
   ]
  },
  {
   "cell_type": "markdown",
   "metadata": {},
   "source": [
    "6\\. Count the number of non-empty orbits (i.e. the number of orbits with at least one hit)."
   ]
  },
  {
   "cell_type": "code",
   "execution_count": 21,
   "metadata": {},
   "outputs": [
    {
     "name": "stdout",
     "output_type": "stream",
     "text": [
      "Number of non-empty orbits: 13311\n"
     ]
    }
   ],
   "source": [
    "non_empty_orbits = len(data[data['TDC_MEAS'] > 0])\n",
    "print(\"Number of non-empty orbits:\", non_empty_orbits)"
   ]
  },
  {
   "cell_type": "markdown",
   "metadata": {},
   "source": [
    "7\\. Count the number of unique orbits with at least one measurement from TDC_CHANNEL=139."
   ]
  },
  {
   "cell_type": "code",
   "execution_count": 22,
   "metadata": {},
   "outputs": [
    {
     "name": "stdout",
     "output_type": "stream",
     "text": [
      "Number of unique orbits with TDC_CHANNEL=139: 150\n"
     ]
    }
   ],
   "source": [
    "tdc_channel_139 = data[data['TDC_CHANNEL'] == '139']\n",
    "unique_orbits = tdc_channel_139['ORBIT_CNT'].nunique()\n",
    "print(\"Number of unique orbits with TDC_CHANNEL=139:\", unique_orbits)"
   ]
  },
  {
   "cell_type": "markdown",
   "metadata": {},
   "source": [
    "8\\. Create two Series (one for each FPGA) that have the TDC channel as index, and the number of counts for the corresponding TDC channel as values."
   ]
  },
  {
   "cell_type": "code",
   "execution_count": 23,
   "metadata": {},
   "outputs": [
    {
     "name": "stdout",
     "output_type": "stream",
     "text": [
      "Series for FPGA 0:\n",
      "TDC_CHANNEL\n",
      "99     5\n",
      "107    5\n",
      "98     5\n",
      "106    4\n",
      "101    3\n",
      "Name: FPGA_0_Counts, dtype: int64\n",
      "\n",
      "Series for FPGA 1:\n",
      "TDC_CHANNEL\n",
      "139    389\n",
      "2      363\n",
      "1      338\n",
      "4      290\n",
      "3      277\n",
      "Name: FPGA_1_Counts, dtype: int64\n"
     ]
    }
   ],
   "source": [
    "fpga_0_data = data[data['FPGA'] == '0']\n",
    "fpga_1_data = data[data['FPGA'] == '1']\n",
    "\n",
    "fpga_0_counts = fpga_0_data['TDC_CHANNEL'].value_counts()\n",
    "fpga_1_counts = fpga_1_data['TDC_CHANNEL'].value_counts()\n",
    "\n",
    "fpga_0_series = pd.Series(fpga_0_counts.values, index=fpga_0_counts.index, name='FPGA_0_Counts')\n",
    "fpga_1_series = pd.Series(fpga_1_counts.values, index=fpga_1_counts.index, name='FPGA_1_Counts')\n",
    "\n",
    "print(\"Series for FPGA 0:\")\n",
    "print(fpga_0_series.tail())\n",
    "\n",
    "print(\"\\nSeries for FPGA 1:\")\n",
    "print(fpga_1_series.head())\n"
   ]
  },
  {
   "cell_type": "markdown",
   "metadata": {},
   "source": [
    "9\\. **Optional:** Create two histograms (one for each FPGA) that show the number of counts for each TDC channel."
   ]
  },
  {
   "cell_type": "code",
   "execution_count": 24,
   "metadata": {},
   "outputs": [
    {
     "data": {
      "image/png": "[encoded data removed]",
      "text/plain": [
       "<Figure size 1200x600 with 2 Axes>"
      ]
     },
     "metadata": {},
     "output_type": "display_data"
    }
   ],
   "source": [
    "plt.figure(figsize=(12, 6))\n",
    "\n",
    "plt.subplot(1, 2, 1)\n",
    "plt.hist(fpga_0_data['TDC_CHANNEL'],bins=100)\n",
    "plt.title('Histogram for FPGA 0')\n",
    "plt.xlabel('TDC Channel')\n",
    "plt.ylabel('Counts')\n",
    "\n",
    "plt.subplot(1, 2, 2)\n",
    "plt.hist(fpga_1_data['TDC_CHANNEL'],bins=100)\n",
    "plt.title('Histogram for FPGA 1')\n",
    "plt.xlabel('TDC Channel')\n",
    "plt.ylabel('Counts')\n",
    "\n",
    "plt.tight_layout()\n",
    "plt.show()"
   ]
  }
 ],
 "metadata": {
  "kernelspec": {
   "display_name": "Python 3 (ipykernel)",
   "language": "python",
   "name": "python3"
  },
  "language_info": {
   "codemirror_mode": {
    "name": "ipython",
    "version": 3
   },
   "file_extension": ".py",
   "mimetype": "text/x-python",
   "name": "python",
   "nbconvert_exporter": "python",
   "pygments_lexer": "ipython3",
   "version": "3.11.1"
  }
 },
 "nbformat": 4,
 "nbformat_minor": 4
}
